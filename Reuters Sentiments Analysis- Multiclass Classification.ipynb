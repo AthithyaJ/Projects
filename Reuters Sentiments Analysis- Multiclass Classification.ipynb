{
 "cells": [
  {
   "cell_type": "code",
   "execution_count": 1,
   "metadata": {},
   "outputs": [],
   "source": [
    "import tensorflow \n",
    "from tensorflow import keras\n"
   ]
  },
  {
   "cell_type": "code",
   "execution_count": 2,
   "metadata": {},
   "outputs": [],
   "source": [
    "from tensorflow.keras import datasets"
   ]
  },
  {
   "cell_type": "code",
   "execution_count": 3,
   "metadata": {},
   "outputs": [],
   "source": [
    "(x_train, y_train), (x_test, y_test) = datasets.reuters.load_data(num_words=5000)"
   ]
  },
  {
   "cell_type": "code",
   "execution_count": 4,
   "metadata": {},
   "outputs": [],
   "source": [
    "from tensorflow.keras import models\n",
    "from tensorflow.keras import layers\n",
    "import numpy as np"
   ]
  },
  {
   "cell_type": "code",
   "execution_count": 5,
   "metadata": {},
   "outputs": [],
   "source": [
    "def vectroize(sequences):\n",
    "    convert_data = np.zeros((len(sequences), 5000))\n",
    "    for a, item in enumerate(sequences):\n",
    "        convert_data[a, item]=1\n",
    "    return convert_data   "
   ]
  },
  {
   "cell_type": "code",
   "execution_count": 6,
   "metadata": {},
   "outputs": [],
   "source": [
    "x_train = vectroize(x_train)\n",
    "x_test = vectroize(x_test)"
   ]
  },
  {
   "cell_type": "code",
   "execution_count": 7,
   "metadata": {},
   "outputs": [],
   "source": [
    "def vectroize_test(sequences):\n",
    "    convert_data = np.zeros((len(sequences), 46))\n",
    "    for a, item in enumerate(sequences):\n",
    "        convert_data[a, item]=1\n",
    "    return convert_data \n"
   ]
  },
  {
   "cell_type": "code",
   "execution_count": 8,
   "metadata": {},
   "outputs": [],
   "source": [
    "y_train = vectroize_test(y_train)\n",
    "y_test = vectroize_test(y_test)"
   ]
  },
  {
   "cell_type": "code",
   "execution_count": 16,
   "metadata": {},
   "outputs": [],
   "source": [
    "Model = models.Sequential()"
   ]
  },
  {
   "cell_type": "code",
   "execution_count": 17,
   "metadata": {},
   "outputs": [],
   "source": [
    "Model.add(layers.Dense(64, activation='relu', input_shape=(5000,)))\n",
    "Model.add(layers.Dense(64, activation='relu'))\n",
    "Model.add(layers.Dense(100, activation='relu'))\n",
    "Model.add(layers.Dense(46, activation='softmax'))\n",
    "          "
   ]
  },
  {
   "cell_type": "code",
   "execution_count": 18,
   "metadata": {},
   "outputs": [],
   "source": [
    "Model.compile(optimizer='rmsprop',loss='categorical_crossentropy', metrics=['accuracy']) "
   ]
  },
  {
   "cell_type": "code",
   "execution_count": 19,
   "metadata": {},
   "outputs": [
    {
     "name": "stdout",
     "output_type": "stream",
     "text": [
      "Epoch 1/5\n",
      "8982/8982 [==============================] - 2s 177us/step - loss: 2.4644 - acc: 0.5067\n",
      "Epoch 2/5\n",
      "8982/8982 [==============================] - 1s 102us/step - loss: 1.4217 - acc: 0.6879\n",
      "Epoch 3/5\n",
      "8982/8982 [==============================] - 1s 102us/step - loss: 1.1070 - acc: 0.7477\n",
      "Epoch 4/5\n",
      "8982/8982 [==============================] - 1s 104us/step - loss: 0.8868 - acc: 0.8047\n",
      "Epoch 5/5\n",
      "8982/8982 [==============================] - 1s 100us/step - loss: 0.7250 - acc: 0.8356\n"
     ]
    },
    {
     "data": {
      "text/plain": [
       "<tensorflow.python.keras.callbacks.History at 0x1f7b9773390>"
      ]
     },
     "execution_count": 19,
     "metadata": {},
     "output_type": "execute_result"
    }
   ],
   "source": [
    "Model.fit(x_train, y_train, epochs=5, batch_size=512)"
   ]
  },
  {
   "cell_type": "code",
   "execution_count": 20,
   "metadata": {},
   "outputs": [
    {
     "name": "stdout",
     "output_type": "stream",
     "text": [
      "2246/2246 [==============================] - 0s 185us/step\n"
     ]
    },
    {
     "data": {
      "text/plain": [
       "[1.0178749567678966, 0.7684772929652716]"
      ]
     },
     "execution_count": 20,
     "metadata": {},
     "output_type": "execute_result"
    }
   ],
   "source": [
    "Model.evaluate(x_test, y_test)"
   ]
  },
  {
   "cell_type": "code",
   "execution_count": null,
   "metadata": {},
   "outputs": [],
   "source": []
  }
 ],
 "metadata": {
  "kernelspec": {
   "display_name": "Python 3",
   "language": "python",
   "name": "python3"
  },
  "language_info": {
   "codemirror_mode": {
    "name": "ipython",
    "version": 3
   },
   "file_extension": ".py",
   "mimetype": "text/x-python",
   "name": "python",
   "nbconvert_exporter": "python",
   "pygments_lexer": "ipython3",
   "version": "3.6.6"
  }
 },
 "nbformat": 4,
 "nbformat_minor": 2
}
