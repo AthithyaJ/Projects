{
 "cells": [
  {
   "cell_type": "code",
   "execution_count": 361,
   "metadata": {},
   "outputs": [],
   "source": [
    "import pandas as pd\n",
    "import sklearn as sk"
   ]
  },
  {
   "cell_type": "code",
   "execution_count": 362,
   "metadata": {},
   "outputs": [],
   "source": [
    "df = pd.read_csv(r'C:\\Users\\jayad\\Desktop\\DATA\\Titanic\\train.csv')\n",
    "df_test = pd.read_csv(r'C:\\Users\\jayad\\Desktop\\DATA\\Titanic\\test.csv')"
   ]
  },
  {
   "cell_type": "code",
   "execution_count": 363,
   "metadata": {},
   "outputs": [],
   "source": [
    "df = df.fillna(0)\n",
    "df_test = df_test.fillna(0)"
   ]
  },
  {
   "cell_type": "code",
   "execution_count": 364,
   "metadata": {},
   "outputs": [
    {
     "data": {
      "text/plain": [
       "891"
      ]
     },
     "execution_count": 364,
     "metadata": {},
     "output_type": "execute_result"
    }
   ],
   "source": [
    "len(df)\n"
   ]
  },
  {
   "cell_type": "code",
   "execution_count": 365,
   "metadata": {},
   "outputs": [],
   "source": [
    "df = df.drop('Cabin', axis = 1).drop('Name', axis = 1)\n"
   ]
  },
  {
   "cell_type": "code",
   "execution_count": 366,
   "metadata": {},
   "outputs": [],
   "source": [
    "for i,v in df.iterrows():\n",
    "    if df.loc[i, 'Sex'] == 'male':\n",
    "        df.loc[i, 'Sex']=1\n",
    "    else:\n",
    "        df.loc[i, 'Sex']=0"
   ]
  },
  {
   "cell_type": "code",
   "execution_count": 367,
   "metadata": {},
   "outputs": [],
   "source": [
    "for i,v in df.iterrows():\n",
    "    if df.loc[i, 'Embarked'] == 'S':\n",
    "        df.loc[i, 'Embarked']=1\n",
    "    elif df.loc[i, 'Embarked'] == 'Q':\n",
    "        df.loc[i, 'Embarked']=2\n",
    "    else:\n",
    "        df.loc[i,'Embarked'] =3"
   ]
  },
  {
   "cell_type": "code",
   "execution_count": 368,
   "metadata": {},
   "outputs": [],
   "source": [
    "for i,v in df_test.iterrows():\n",
    "    if df_test.loc[i, 'Sex'] == 'male':\n",
    "        df_test.loc[i, 'Sex']=1\n",
    "    else:\n",
    "        df_test.loc[i, 'Sex']=0\n",
    "for i,v in df_test.iterrows():\n",
    "    if df_test.loc[i, 'Embarked'] == 'S':\n",
    "        df_test.loc[i, 'Embarked']=1\n",
    "    elif df_test.loc[i, 'Embarked'] == 'Q':\n",
    "        df_test.loc[i, 'Embarked']=2\n",
    "    else:\n",
    "        df_test.loc[i,'Embarked'] =3        "
   ]
  },
  {
   "cell_type": "code",
   "execution_count": 369,
   "metadata": {},
   "outputs": [],
   "source": [
    "df_ttest = df[700:]\n",
    "df_ttrain = df[:700]\n"
   ]
  },
  {
   "cell_type": "code",
   "execution_count": 370,
   "metadata": {},
   "outputs": [],
   "source": [
    "label_tr = df[:700]['Survived']\n",
    "label_tes = df[700:]['Survived']"
   ]
  },
  {
   "cell_type": "code",
   "execution_count": 371,
   "metadata": {},
   "outputs": [],
   "source": [
    "df_ttrain = df_ttrain.drop('Survived', axis = 1)\n",
    "df_ttest = df_ttest.drop('Survived', axis = 1)"
   ]
  },
  {
   "cell_type": "code",
   "execution_count": 372,
   "metadata": {},
   "outputs": [],
   "source": [
    "df_ttrain=df_ttrain.drop('Ticket', axis =1)\n",
    "df_ttest = df_ttest.drop('Ticket', axis = 1)"
   ]
  },
  {
   "cell_type": "code",
   "execution_count": 373,
   "metadata": {},
   "outputs": [],
   "source": [
    "from sklearn import ensemble\n",
    "from sklearn import neural_network\n",
    "from sklearn.tree import DecisionTreeClassifier \n",
    "from sklearn import svm\n",
    "from sklearn import neighbors, naive_bayes"
   ]
  },
  {
   "cell_type": "code",
   "execution_count": 374,
   "metadata": {},
   "outputs": [],
   "source": [
    "clf = ensemble.RandomForestClassifier(n_estimators = 5, criterion='gini', max_depth=4)"
   ]
  },
  {
   "cell_type": "code",
   "execution_count": 375,
   "metadata": {},
   "outputs": [],
   "source": [
    "model = clf.fit(df_ttrain, label_tr)"
   ]
  },
  {
   "cell_type": "code",
   "execution_count": 376,
   "metadata": {},
   "outputs": [],
   "source": [
    "labels = model.predict(df_ttest)"
   ]
  },
  {
   "cell_type": "code",
   "execution_count": 377,
   "metadata": {},
   "outputs": [],
   "source": [
    "from sklearn import metrics"
   ]
  },
  {
   "cell_type": "code",
   "execution_count": 378,
   "metadata": {},
   "outputs": [],
   "source": [
    "score = metrics.accuracy_score(label_tes, labels)\n"
   ]
  },
  {
   "cell_type": "code",
   "execution_count": 379,
   "metadata": {},
   "outputs": [
    {
     "name": "stdout",
     "output_type": "stream",
     "text": [
      "0.7958115183246073\n"
     ]
    }
   ],
   "source": [
    "print(score)"
   ]
  },
  {
   "cell_type": "code",
   "execution_count": 380,
   "metadata": {},
   "outputs": [],
   "source": [
    "df_test = df_test.drop('Name', axis = 1).drop('Ticket', axis=1).drop('Cabin', axis = 1)"
   ]
  },
  {
   "cell_type": "code",
   "execution_count": 381,
   "metadata": {},
   "outputs": [],
   "source": [
    "label_test = model.predict(df_test)"
   ]
  },
  {
   "cell_type": "code",
   "execution_count": 382,
   "metadata": {},
   "outputs": [],
   "source": [
    "df_test['Survived'] = label_test"
   ]
  },
  {
   "cell_type": "code",
   "execution_count": 383,
   "metadata": {},
   "outputs": [],
   "source": [
    "out = df_test.drop('Pclass', axis=1).drop('Sex', axis = 1).drop('Age', axis=1).drop('SibSp', axis = 1).drop('Parch', axis =1).drop('Fare', axis  =1).drop('Embarked', axis=1)"
   ]
  },
  {
   "cell_type": "code",
   "execution_count": 384,
   "metadata": {},
   "outputs": [],
   "source": [
    "out.to_csv(r'C:\\Users\\jayad\\Desktop\\DATA\\Titanic\\output3.csv')"
   ]
  },
  {
   "cell_type": "code",
   "execution_count": null,
   "metadata": {},
   "outputs": [],
   "source": []
  }
 ],
 "metadata": {
  "kernelspec": {
   "display_name": "Python 3",
   "language": "python",
   "name": "python3"
  },
  "language_info": {
   "codemirror_mode": {
    "name": "ipython",
    "version": 3
   },
   "file_extension": ".py",
   "mimetype": "text/x-python",
   "name": "python",
   "nbconvert_exporter": "python",
   "pygments_lexer": "ipython3",
   "version": "3.6.6"
  }
 },
 "nbformat": 4,
 "nbformat_minor": 2
}
